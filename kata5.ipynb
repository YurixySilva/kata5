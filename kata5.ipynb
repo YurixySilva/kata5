{
 "cells": [
  {
   "cell_type": "code",
   "execution_count": null,
   "metadata": {},
   "outputs": [],
   "source": []
  },
  {
   "cell_type": "markdown",
   "metadata": {},
   "source": [
    "## Ejercicio 1\n",
    "operadores aritmeticos en python"
   ]
  },
  {
   "cell_type": "code",
   "execution_count": 34,
   "metadata": {},
   "outputs": [
    {
     "name": "stdout",
     "output_type": "stream",
     "text": [
      "628949330 km\n",
      "390577533.93 millas\n"
     ]
    }
   ],
   "source": [
    "distancia_tierra=149597870 #km\n",
    "distancia_jupiter=778547200 #km\n",
    "distancia_entre_jyt=distancia_tierra - distancia_jupiter\n",
    "print(abs(distancia_entre_jyt), \"km\")\n",
    "distancia_jyt_millas=distancia_entre_jyt*0.621\n",
    "print(abs(distancia_jyt_millas), \"millas\")"
   ]
  },
  {
   "cell_type": "markdown",
   "metadata": {},
   "source": [
    "## Ejercicio 2"
   ]
  },
  {
   "cell_type": "code",
   "execution_count": 35,
   "metadata": {},
   "outputs": [
    {
     "name": "stdout",
     "output_type": "stream",
     "text": [
      "Hola, bienvenido. Por favor, inserte los siguientes datos:\n",
      " La distancia del planeta 1 \n",
      " la distancia del planeta 2\n",
      "90 km de distancia del planeta 1  y  98 km de distancia planeta 2\n",
      "8 km de distancia entre los planetas 1 y 2 \n",
      "4.968  dmillas de distancia entre plos planetas\n"
     ]
    }
   ],
   "source": [
    "title=\"Hola, bienvenido. Por favor, inserte los siguientes datos:\\n La distancia del planeta 1 \\n la distancia del planeta 2\"\n",
    "title.title()\n",
    "print(title)\n",
    "distancia_planeta1=input(\"distancia del planeta 1\")\n",
    "distancia_planeta2=input(\"distancia planeta 2\")\n",
    "planeta1=int(distancia_planeta1)\n",
    "planeta2=int(distancia_planeta2)\n",
    "print(distancia_planeta1, \"km de distancia del planeta 1 \",\"y \", distancia_planeta2, \"km de distancia planeta 2\")\n",
    "\n",
    "distancia_entre_planetas=abs(planeta1 - planeta2)\n",
    "print(distancia_entre_planetas, \"km de distancia entre los planetas 1 y 2 \")\n",
    "un_km=0.621 #millas\n",
    "distancia_entre_planetas_millas=abs(distancia_entre_planetas*un_km)\n",
    "print(distancia_entre_planetas_millas,\" dmillas de distancia entre plos planetas\")"
   ]
  }
 ],
 "metadata": {
  "interpreter": {
   "hash": "cf960eb46d23ddff2d972984d3ba9e94ed12ea2863506cd2d61fa5eee592ec1f"
  },
  "kernelspec": {
   "display_name": "Python 3.10.2 64-bit",
   "language": "python",
   "name": "python3"
  },
  "language_info": {
   "codemirror_mode": {
    "name": "ipython",
    "version": 3
   },
   "file_extension": ".py",
   "mimetype": "text/x-python",
   "name": "python",
   "nbconvert_exporter": "python",
   "pygments_lexer": "ipython3",
   "version": "3.10.2"
  },
  "orig_nbformat": 4
 },
 "nbformat": 4,
 "nbformat_minor": 2
}
